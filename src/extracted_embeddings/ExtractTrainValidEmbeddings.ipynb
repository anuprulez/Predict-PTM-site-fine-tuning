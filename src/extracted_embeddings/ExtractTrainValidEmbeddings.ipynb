{
 "cells": [
  {
   "cell_type": "code",
   "execution_count": 1,
   "id": "dfa5039e-00f1-42b3-a10e-06ef42c36f64",
   "metadata": {},
   "outputs": [
    {
     "name": "stderr",
     "output_type": "stream",
     "text": [
      "2024-02-03 22:38:18.046523: I tensorflow/core/platform/cpu_feature_guard.cc:193] This TensorFlow binary is optimized with oneAPI Deep Neural Network Library (oneDNN) to use the following CPU instructions in performance-critical operations:  AVX2 FMA\n",
      "To enable them in other operations, rebuild TensorFlow with the appropriate compiler flags.\n",
      "2024-02-03 22:38:18.404578: E tensorflow/stream_executor/cuda/cuda_blas.cc:2981] Unable to register cuBLAS factory: Attempting to register factory for plugin cuBLAS when one has already been registered\n",
      "2024-02-03 22:38:19.768862: W tensorflow/stream_executor/platform/default/dso_loader.cc:64] Could not load dynamic library 'libnvinfer.so.7'; dlerror: libnvinfer.so.7: cannot open shared object file: No such file or directory\n",
      "2024-02-03 22:38:19.769071: W tensorflow/stream_executor/platform/default/dso_loader.cc:64] Could not load dynamic library 'libnvinfer_plugin.so.7'; dlerror: libnvinfer_plugin.so.7: cannot open shared object file: No such file or directory\n",
      "2024-02-03 22:38:19.769096: W tensorflow/compiler/tf2tensorrt/utils/py_utils.cc:38] TF-TRT Warning: Cannot dlopen some TensorRT libraries. If you would like to use Nvidia GPU with TensorRT, please make sure the missing libraries mentioned above are installed properly.\n",
      "You are using the default legacy behaviour of the <class 'transformers.models.t5.tokenization_t5.T5Tokenizer'>. This is expected, and simply means that the `legacy` (previous) behavior will be used so nothing changes for you. If you want to use the new behaviour, set `legacy=False`. This should only be set if you understand what it means, and thouroughly read the reason why this was added as explained in https://github.com/huggingface/transformers/pull/24565\n"
     ]
    }
   ],
   "source": [
    "import pandas as pd\n",
    "import numpy as np\n",
    "import h5py\n",
    "import numpy as np\n",
    "from Bio import SeqIO\n",
    "from keras import backend as K\n",
    "from sklearn.metrics import accuracy_score, confusion_matrix, matthews_corrcoef, roc_auc_score\n",
    "from tensorflow.keras.models import Model, Sequential\n",
    "from tensorflow.keras.optimizers import Adam\n",
    "from tensorflow.keras.layers import Input, Conv1D, MaxPooling1D, Flatten, Dense, Dropout, concatenate\n",
    "from tensorflow.keras.losses import BinaryCrossentropy\n",
    "import tensorflow as tf\n",
    "from tqdm import tqdm\n",
    "from tabulate import tabulate  # Make sure to install tabulate package\n",
    "import re\n",
    "import torch\n",
    "from transformers import T5EncoderModel, T5Tokenizer\n",
    "import gc\n",
    "\n",
    "tokenizer = T5Tokenizer.from_pretrained(\"Rostlab/prot_t5_xl_uniref50\", do_lower_case=False )\n",
    "pretrained_model = T5EncoderModel.from_pretrained(\"Rostlab/prot_t5_xl_uniref50\")\n",
    "\n",
    "device = torch.device('cpu')\n",
    "pretrained_model = pretrained_model.to(device)\n",
    "pretrained_model = pretrained_model.eval()\n",
    "\n",
    "my_train = pd.read_csv('my_train2.csv')\n",
    "my_valid = pd.read_csv('my_valid2.csv')"
   ]
  },
  {
   "cell_type": "code",
   "execution_count": 2,
   "id": "810ec9a9-c090-4e2d-95ef-6b3faa881882",
   "metadata": {},
   "outputs": [],
   "source": [
    "def get_protT5_features(sequence): \n",
    "    # Ensure the sequence is a string\n",
    "    sequence = str(sequence)\n",
    "\n",
    "    # Replace rare amino acids with X\n",
    "    sequence = re.sub(r\"[UZOB]\", \"X\", sequence)\n",
    "    \n",
    "    # Tokenize the sequence\n",
    "    ids = tokenizer.batch_encode_plus([sequence], add_special_tokens=True, padding=True)\n",
    "    input_ids = torch.tensor(ids['input_ids']).to(device)\n",
    "    attention_mask = torch.tensor(ids['attention_mask']).to(device)\n",
    "    \n",
    "    # Extract features from the pretrained model\n",
    "    with torch.no_grad():\n",
    "        embedding = pretrained_model(input_ids=input_ids, attention_mask=attention_mask)\n",
    "\n",
    "    # Extract the last hidden state\n",
    "    embedding = embedding.last_hidden_state.cpu().numpy()\n",
    "    \n",
    "    # Find length\n",
    "    seq_len = (attention_mask[0] == 1).sum()\n",
    "    \n",
    "    # Select features\n",
    "    seq_emd = embedding[0][:seq_len-1]\n",
    "    \n",
    "    return seq_emd\n",
    "\n",
    "def get_input_for_embedding(fasta_file):\n",
    "    sequences = []\n",
    "    \n",
    "    for seq_record in SeqIO.parse(fasta_file, \"fasta\"):\n",
    "        sequence = str(seq_record.seq)\n",
    "        sequences.append(sequence)\n",
    "\n",
    "    # Generate ProtT5 embeddings for the sequences\n",
    "    embeddings = [get_protT5_features(seq) for seq in sequences]\n",
    "\n",
    "    return embeddings\n"
   ]
  },
  {
   "cell_type": "code",
   "execution_count": 7,
   "id": "2d24bdb7-3d13-4382-93fe-a98e19c9c895",
   "metadata": {},
   "outputs": [],
   "source": [
    "def aggregate_emb(hf_path, train_df, valid_df, extract_pos=16):\n",
    "    # Process training sequences\n",
    "    # Process training sequences\n",
    "    train_embedding = list()\n",
    "    for seq in train_df['sequence']:\n",
    "        pt5_all = get_protT5_features(seq)\n",
    "        embed_pos = pt5_all[0]  # Access the single element in pt5_all\n",
    "        train_embedding.append(embed_pos)\n",
    "    \n",
    "    # Process validation sequences\n",
    "    valid_embedding = list()\n",
    "    for seq in valid_df['sequence']:\n",
    "        pt5_all = get_protT5_features(seq)\n",
    "        embed_pos = pt5_all[0]  # Access the single element in pt5_all\n",
    "        valid_embedding.append(embed_pos)\n",
    "\n",
    "\n",
    "    # Save the training embeddings to an h5 file\n",
    "    train_X = np.array(train_embedding)\n",
    "\n",
    "    print(\"Size of X_train:\", train_X.shape)\n",
    "    \n",
    "    with h5py.File(hf_path.replace(\".h5\", \"_train.h5\"), 'w') as hf:\n",
    "        hf.create_dataset('embedding', data=train_X)\n",
    "\n",
    "    # Save the validation embeddings to an h5 file\n",
    "    valid_X = np.array(valid_embedding)\n",
    "\n",
    "    print(\"Size of X_valid:\", valid_X.shape)\n",
    "    \n",
    "    with h5py.File(hf_path.replace(\".h5\", \"_valid.h5\"), 'w') as hf:\n",
    "        hf.create_dataset('embedding', data=valid_X)"
   ]
  },
  {
   "cell_type": "code",
   "execution_count": 8,
   "id": "342e9215-e9e8-47d1-b004-1235c4d3c8e0",
   "metadata": {},
   "outputs": [],
   "source": [
    "def aggregate_emb1(hf_path, seq_list):\n",
    "    agg_embedding = list()\n",
    "    for seq in seq_list:\n",
    "        pt5_all = get_protT5_features(seq)\n",
    "        agg_embedding.append(pt5_all)\n",
    "\n",
    "    X = np.array(agg_embedding)\n",
    "    X = np.squeeze(X, axis=1)\n",
    "    print(X.shape)\n",
    "    hf = h5py.File(hf_path, 'w')\n",
    "    hf.create_dataset('embedding', data=X)\n",
    "    hf.close()\n"
   ]
  },
  {
   "cell_type": "code",
   "execution_count": 9,
   "id": "859b7560-5a04-4a69-aae7-659225e17a7b",
   "metadata": {},
   "outputs": [
    {
     "name": "stdout",
     "output_type": "stream",
     "text": [
      "Size of X_train: (323, 1024)\n",
      "Size of X_valid: (81, 1024)\n"
     ]
    }
   ],
   "source": [
    "test_Y_embedding = get_input_for_embedding('./D+P_Equal.fasta')\n",
    "aggregate_emb(\"./embeddings/data2.h5\", my_train, my_valid, extract_pos=16)\n"
   ]
  },
  {
   "cell_type": "code",
   "execution_count": null,
   "id": "a37712ca-6b86-44b4-86cf-95c62a15991b",
   "metadata": {},
   "outputs": [],
   "source": []
  }
 ],
 "metadata": {
  "kernelspec": {
   "display_name": "Python 3 (ipykernel)",
   "language": "python",
   "name": "python3"
  },
  "language_info": {
   "codemirror_mode": {
    "name": "ipython",
    "version": 3
   },
   "file_extension": ".py",
   "mimetype": "text/x-python",
   "name": "python",
   "nbconvert_exporter": "python",
   "pygments_lexer": "ipython3",
   "version": "3.9.18"
  }
 },
 "nbformat": 4,
 "nbformat_minor": 5
}
